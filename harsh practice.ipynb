{
 "cells": [
  {
   "cell_type": "markdown",
   "id": "dfb19238",
   "metadata": {},
   "source": [
    "# Variable\n",
    "\n",
    "#### Variables are the reserved memory that store data"
   ]
  },
  {
   "cell_type": "code",
   "execution_count": 1,
   "id": "6a7b42e8",
   "metadata": {},
   "outputs": [],
   "source": [
    "name = 'Harsh'"
   ]
  },
  {
   "cell_type": "code",
   "execution_count": 2,
   "id": "90ac60bb",
   "metadata": {},
   "outputs": [
    {
     "name": "stdout",
     "output_type": "stream",
     "text": [
      "Harsh\n"
     ]
    }
   ],
   "source": [
    "print(name)"
   ]
  },
  {
   "cell_type": "markdown",
   "id": "745cb026",
   "metadata": {},
   "source": [
    "## Dynamic Typing"
   ]
  },
  {
   "cell_type": "code",
   "execution_count": 3,
   "id": "4d949a4d",
   "metadata": {},
   "outputs": [],
   "source": [
    "number= 1234"
   ]
  },
  {
   "cell_type": "code",
   "execution_count": 4,
   "id": "ca597252",
   "metadata": {},
   "outputs": [
    {
     "data": {
      "text/plain": [
       "int"
      ]
     },
     "execution_count": 4,
     "metadata": {},
     "output_type": "execute_result"
    }
   ],
   "source": [
    "type(number)"
   ]
  },
  {
   "cell_type": "code",
   "execution_count": 5,
   "id": "b5df64b1",
   "metadata": {},
   "outputs": [
    {
     "data": {
      "text/plain": [
       "float"
      ]
     },
     "execution_count": 5,
     "metadata": {},
     "output_type": "execute_result"
    }
   ],
   "source": [
    "number = 2.3\n",
    "type(number)"
   ]
  },
  {
   "cell_type": "code",
   "execution_count": 6,
   "id": "6f082dfd",
   "metadata": {},
   "outputs": [
    {
     "data": {
      "text/plain": [
       "str"
      ]
     },
     "execution_count": 6,
     "metadata": {},
     "output_type": "execute_result"
    }
   ],
   "source": [
    "name = 'Harsh'\n",
    "type(name)"
   ]
  },
  {
   "cell_type": "code",
   "execution_count": 7,
   "id": "55dd1bf1",
   "metadata": {},
   "outputs": [
    {
     "data": {
      "text/plain": [
       "float"
      ]
     },
     "execution_count": 7,
     "metadata": {},
     "output_type": "execute_result"
    }
   ],
   "source": [
    "a = 1.0\n",
    "type(a)"
   ]
  },
  {
   "cell_type": "code",
   "execution_count": 8,
   "id": "5083cd8f",
   "metadata": {},
   "outputs": [
    {
     "data": {
      "text/plain": [
       "bool"
      ]
     },
     "execution_count": 8,
     "metadata": {},
     "output_type": "execute_result"
    }
   ],
   "source": [
    "b = True\n",
    "type(b)"
   ]
  },
  {
   "cell_type": "code",
   "execution_count": 9,
   "id": "d3f034b1",
   "metadata": {},
   "outputs": [
    {
     "data": {
      "text/plain": [
       "False"
      ]
     },
     "execution_count": 9,
     "metadata": {},
     "output_type": "execute_result"
    }
   ],
   "source": [
    "b = 2\n",
    "c = 3\n",
    "b>c"
   ]
  },
  {
   "cell_type": "code",
   "execution_count": 10,
   "id": "7f26074c",
   "metadata": {},
   "outputs": [
    {
     "data": {
      "text/plain": [
       "True"
      ]
     },
     "execution_count": 10,
     "metadata": {},
     "output_type": "execute_result"
    }
   ],
   "source": [
    "c>b"
   ]
  },
  {
   "cell_type": "code",
   "execution_count": 11,
   "id": "79c73d45",
   "metadata": {},
   "outputs": [
    {
     "name": "stdout",
     "output_type": "stream",
     "text": [
      "['H', 'A', 'R', 'S', 'H']\n"
     ]
    },
    {
     "data": {
      "text/plain": [
       "list"
      ]
     },
     "execution_count": 11,
     "metadata": {},
     "output_type": "execute_result"
    }
   ],
   "source": [
    "names = ['H','A','R','S','H']\n",
    "print(names)\n",
    "type(names)"
   ]
  },
  {
   "cell_type": "code",
   "execution_count": 12,
   "id": "502efa8d",
   "metadata": {},
   "outputs": [
    {
     "name": "stdout",
     "output_type": "stream",
     "text": [
      "('H', 'A', 'R', 'S', 'H')\n"
     ]
    },
    {
     "data": {
      "text/plain": [
       "tuple"
      ]
     },
     "execution_count": 12,
     "metadata": {},
     "output_type": "execute_result"
    }
   ],
   "source": [
    "names = ('H','A','R','S','H')\n",
    "print(names)\n",
    "type(names)"
   ]
  },
  {
   "cell_type": "code",
   "execution_count": 13,
   "id": "62220a6b",
   "metadata": {},
   "outputs": [
    {
     "name": "stdout",
     "output_type": "stream",
     "text": [
      "{'Name': 'Harsh', 'Age': 20}\n"
     ]
    },
    {
     "data": {
      "text/plain": [
       "dict"
      ]
     },
     "execution_count": 13,
     "metadata": {},
     "output_type": "execute_result"
    }
   ],
   "source": [
    "info = {'Name':'Harsh','Age':20}  #Dictinory -> keys and value pair {keys:value}\n",
    "print(info)\n",
    "type(info)"
   ]
  },
  {
   "cell_type": "code",
   "execution_count": 14,
   "id": "a3f35388",
   "metadata": {},
   "outputs": [
    {
     "data": {
      "text/plain": [
       "set"
      ]
     },
     "execution_count": 14,
     "metadata": {},
     "output_type": "execute_result"
    }
   ],
   "source": [
    "a = {1,2,3} # Set does not aloow duplicate data\n",
    "type(a)"
   ]
  },
  {
   "cell_type": "code",
   "execution_count": 15,
   "id": "85f40823",
   "metadata": {},
   "outputs": [
    {
     "data": {
      "text/plain": [
       "'H'"
      ]
     },
     "execution_count": 15,
     "metadata": {},
     "output_type": "execute_result"
    }
   ],
   "source": [
    "a = 'Harsh' # positve indexing starts from 0 and negative from -1\n",
    "a[0]"
   ]
  },
  {
   "cell_type": "code",
   "execution_count": 16,
   "id": "8351d1fc",
   "metadata": {},
   "outputs": [
    {
     "data": {
      "text/plain": [
       "'Ha'"
      ]
     },
     "execution_count": 16,
     "metadata": {},
     "output_type": "execute_result"
    }
   ],
   "source": [
    "a[0:2] #[start:stop:step]"
   ]
  },
  {
   "cell_type": "code",
   "execution_count": 17,
   "id": "5e1909dc",
   "metadata": {},
   "outputs": [
    {
     "data": {
      "text/plain": [
       "'Hrh'"
      ]
     },
     "execution_count": 17,
     "metadata": {},
     "output_type": "execute_result"
    }
   ],
   "source": [
    "a[0::2]"
   ]
  },
  {
   "cell_type": "code",
   "execution_count": 18,
   "id": "4c431757",
   "metadata": {},
   "outputs": [
    {
     "data": {
      "text/plain": [
       "'Hs'"
      ]
     },
     "execution_count": 18,
     "metadata": {},
     "output_type": "execute_result"
    }
   ],
   "source": [
    "a[0] + a[3]"
   ]
  },
  {
   "cell_type": "code",
   "execution_count": 19,
   "id": "d664012d",
   "metadata": {},
   "outputs": [
    {
     "data": {
      "text/plain": [
       "'Harsh is a  engineer'"
      ]
     },
     "execution_count": 19,
     "metadata": {},
     "output_type": "execute_result"
    }
   ],
   "source": [
    "student = ' engineer'\n",
    "a +' is a '+ student"
   ]
  },
  {
   "cell_type": "code",
   "execution_count": 20,
   "id": "25b6c746",
   "metadata": {},
   "outputs": [
    {
     "data": {
      "text/plain": [
       "'Harsh28'"
      ]
     },
     "execution_count": 20,
     "metadata": {},
     "output_type": "execute_result"
    }
   ],
   "source": [
    "#casting (explicitly converting)\n",
    "a + str(28)"
   ]
  },
  {
   "cell_type": "code",
   "execution_count": 21,
   "id": "27b7e6a3",
   "metadata": {},
   "outputs": [
    {
     "data": {
      "text/plain": [
       "10"
      ]
     },
     "execution_count": 21,
     "metadata": {},
     "output_type": "execute_result"
    }
   ],
   "source": [
    "round(9.8)"
   ]
  },
  {
   "cell_type": "code",
   "execution_count": 22,
   "id": "013ac4b0",
   "metadata": {},
   "outputs": [
    {
     "data": {
      "text/plain": [
       "10"
      ]
     },
     "execution_count": 22,
     "metadata": {},
     "output_type": "execute_result"
    }
   ],
   "source": [
    "round(9.5)"
   ]
  },
  {
   "cell_type": "code",
   "execution_count": 23,
   "id": "12554335",
   "metadata": {
    "scrolled": false
   },
   "outputs": [
    {
     "data": {
      "text/plain": [
       "9"
      ]
     },
     "execution_count": 23,
     "metadata": {},
     "output_type": "execute_result"
    }
   ],
   "source": [
    "round(9.4)"
   ]
  },
  {
   "cell_type": "code",
   "execution_count": 24,
   "id": "6cd32fd5",
   "metadata": {},
   "outputs": [
    {
     "data": {
      "text/plain": [
       "8"
      ]
     },
     "execution_count": 24,
     "metadata": {},
     "output_type": "execute_result"
    }
   ],
   "source": [
    "round(8.5)"
   ]
  },
  {
   "cell_type": "code",
   "execution_count": 25,
   "id": "d70e4ca0",
   "metadata": {},
   "outputs": [],
   "source": [
    "statement = 'I am Harsh'"
   ]
  },
  {
   "cell_type": "code",
   "execution_count": 26,
   "id": "781efe37",
   "metadata": {},
   "outputs": [
    {
     "data": {
      "text/plain": [
       "'I am Harsh'"
      ]
     },
     "execution_count": 26,
     "metadata": {},
     "output_type": "execute_result"
    }
   ],
   "source": [
    "statement"
   ]
  },
  {
   "cell_type": "code",
   "execution_count": 27,
   "id": "5460be41",
   "metadata": {},
   "outputs": [
    {
     "data": {
      "text/plain": [
       "'I am HarshI am HarshI am HarshI am HarshI am Harsh'"
      ]
     },
     "execution_count": 27,
     "metadata": {},
     "output_type": "execute_result"
    }
   ],
   "source": [
    "statement * 5"
   ]
  },
  {
   "cell_type": "markdown",
   "id": "9422b78d",
   "metadata": {},
   "source": [
    "### String Functions"
   ]
  },
  {
   "cell_type": "code",
   "execution_count": 28,
   "id": "7ef2a53e",
   "metadata": {},
   "outputs": [],
   "source": [
    "name = \"Harsh Patil\""
   ]
  },
  {
   "cell_type": "code",
   "execution_count": 29,
   "id": "0370b9b5",
   "metadata": {},
   "outputs": [
    {
     "data": {
      "text/plain": [
       "'Harsh Patil'"
      ]
     },
     "execution_count": 29,
     "metadata": {},
     "output_type": "execute_result"
    }
   ],
   "source": [
    "name"
   ]
  },
  {
   "cell_type": "code",
   "execution_count": 30,
   "id": "32f7a195",
   "metadata": {},
   "outputs": [
    {
     "data": {
      "text/plain": [
       "'HARSH PATIL'"
      ]
     },
     "execution_count": 30,
     "metadata": {},
     "output_type": "execute_result"
    }
   ],
   "source": [
    "name.upper()"
   ]
  },
  {
   "cell_type": "code",
   "execution_count": 31,
   "id": "6d22bfb8",
   "metadata": {},
   "outputs": [
    {
     "data": {
      "text/plain": [
       "'harsh patil'"
      ]
     },
     "execution_count": 31,
     "metadata": {},
     "output_type": "execute_result"
    }
   ],
   "source": [
    "name.lower()"
   ]
  },
  {
   "cell_type": "code",
   "execution_count": 32,
   "id": "0f9d56fa",
   "metadata": {},
   "outputs": [],
   "source": [
    "name = name.lower()"
   ]
  },
  {
   "cell_type": "code",
   "execution_count": 33,
   "id": "c4604eba",
   "metadata": {},
   "outputs": [
    {
     "data": {
      "text/plain": [
       "'Harsh Patil'"
      ]
     },
     "execution_count": 33,
     "metadata": {},
     "output_type": "execute_result"
    }
   ],
   "source": [
    "name.title()   #converts every firdt letter uppercase\n"
   ]
  },
  {
   "cell_type": "code",
   "execution_count": 34,
   "id": "21760cd8",
   "metadata": {},
   "outputs": [
    {
     "data": {
      "text/plain": [
       "'Harsh patil'"
      ]
     },
     "execution_count": 34,
     "metadata": {},
     "output_type": "execute_result"
    }
   ],
   "source": [
    "name.capitalize()"
   ]
  },
  {
   "cell_type": "code",
   "execution_count": 35,
   "id": "a2258b5f",
   "metadata": {},
   "outputs": [],
   "source": [
    "info = \"India is my country\"\n"
   ]
  },
  {
   "cell_type": "code",
   "execution_count": 36,
   "id": "5b365f7f",
   "metadata": {},
   "outputs": [
    {
     "data": {
      "text/plain": [
       "['India', 'is', 'my', 'country']"
      ]
     },
     "execution_count": 36,
     "metadata": {},
     "output_type": "execute_result"
    }
   ],
   "source": [
    "info.split()   #splits the given sentence wrt to gaps"
   ]
  },
  {
   "cell_type": "code",
   "execution_count": 37,
   "id": "dd901061",
   "metadata": {},
   "outputs": [
    {
     "data": {
      "text/plain": [
       "['Ind', 'a ', 's my country']"
      ]
     },
     "execution_count": 37,
     "metadata": {},
     "output_type": "execute_result"
    }
   ],
   "source": [
    "info.split('i')  #include the word where you want to create the space"
   ]
  },
  {
   "cell_type": "markdown",
   "id": "5cc46f3e",
   "metadata": {},
   "source": [
    "### Location and counting"
   ]
  },
  {
   "cell_type": "code",
   "execution_count": 38,
   "id": "4b8ce8d7",
   "metadata": {},
   "outputs": [],
   "source": [
    "name = \"harsh\""
   ]
  },
  {
   "cell_type": "code",
   "execution_count": 39,
   "id": "e2b543a9",
   "metadata": {},
   "outputs": [
    {
     "data": {
      "text/plain": [
       "2"
      ]
     },
     "execution_count": 39,
     "metadata": {},
     "output_type": "execute_result"
    }
   ],
   "source": [
    "name.count('h') #counts the number of the word mentioned in bracket"
   ]
  },
  {
   "cell_type": "code",
   "execution_count": 40,
   "id": "3dcbcc57",
   "metadata": {},
   "outputs": [
    {
     "data": {
      "text/plain": [
       "2"
      ]
     },
     "execution_count": 40,
     "metadata": {},
     "output_type": "execute_result"
    }
   ],
   "source": [
    "name.find('r') #find the location of word mentioned in the bracket"
   ]
  },
  {
   "cell_type": "code",
   "execution_count": 41,
   "id": "db8e1845",
   "metadata": {},
   "outputs": [
    {
     "data": {
      "text/plain": [
       "4"
      ]
     },
     "execution_count": 41,
     "metadata": {},
     "output_type": "execute_result"
    }
   ],
   "source": [
    "name.rfind('h')  #checks from rightmost postion"
   ]
  },
  {
   "cell_type": "code",
   "execution_count": 42,
   "id": "d772ba2a",
   "metadata": {},
   "outputs": [
    {
     "data": {
      "text/plain": [
       "True"
      ]
     },
     "execution_count": 42,
     "metadata": {},
     "output_type": "execute_result"
    }
   ],
   "source": [
    "num = '6'\n",
    "num.isalnum()  #number should be either alphabet or number"
   ]
  },
  {
   "cell_type": "code",
   "execution_count": 43,
   "id": "f034f56a",
   "metadata": {},
   "outputs": [
    {
     "data": {
      "text/plain": [
       "False"
      ]
     },
     "execution_count": 43,
     "metadata": {},
     "output_type": "execute_result"
    }
   ],
   "source": [
    "num.isalpha() # char should be alphabet only"
   ]
  },
  {
   "cell_type": "code",
   "execution_count": 44,
   "id": "1b37ca55",
   "metadata": {},
   "outputs": [
    {
     "data": {
      "text/plain": [
       "True"
      ]
     },
     "execution_count": 44,
     "metadata": {},
     "output_type": "execute_result"
    }
   ],
   "source": [
    "num.isdigit() #char should be number only"
   ]
  },
  {
   "cell_type": "code",
   "execution_count": 45,
   "id": "d6091ba6",
   "metadata": {},
   "outputs": [
    {
     "data": {
      "text/plain": [
       "'harsh'"
      ]
     },
     "execution_count": 45,
     "metadata": {},
     "output_type": "execute_result"
    }
   ],
   "source": [
    "name"
   ]
  },
  {
   "cell_type": "code",
   "execution_count": 46,
   "id": "5f0f0849",
   "metadata": {},
   "outputs": [
    {
     "data": {
      "text/plain": [
       "5"
      ]
     },
     "execution_count": 46,
     "metadata": {},
     "output_type": "execute_result"
    }
   ],
   "source": [
    "len(name)  # gives the lebgth of the string"
   ]
  },
  {
   "cell_type": "code",
   "execution_count": 47,
   "id": "24763229",
   "metadata": {},
   "outputs": [
    {
     "data": {
      "text/plain": [
       "9"
      ]
     },
     "execution_count": 47,
     "metadata": {},
     "output_type": "execute_result"
    }
   ],
   "source": [
    "name = \"  Harsh  \"\n",
    "len(name)"
   ]
  },
  {
   "cell_type": "code",
   "execution_count": 48,
   "id": "e519c4c8",
   "metadata": {},
   "outputs": [
    {
     "data": {
      "text/plain": [
       "'Harsh'"
      ]
     },
     "execution_count": 48,
     "metadata": {},
     "output_type": "execute_result"
    }
   ],
   "source": [
    "name.strip() #removes space"
   ]
  },
  {
   "cell_type": "code",
   "execution_count": 49,
   "id": "696e5d64",
   "metadata": {},
   "outputs": [
    {
     "data": {
      "text/plain": [
       "True"
      ]
     },
     "execution_count": 49,
     "metadata": {},
     "output_type": "execute_result"
    }
   ],
   "source": [
    "name = \"Harsh\"\n",
    "name.startswith('H')"
   ]
  },
  {
   "cell_type": "code",
   "execution_count": 50,
   "id": "1460d6c7",
   "metadata": {},
   "outputs": [
    {
     "data": {
      "text/plain": [
       "True"
      ]
     },
     "execution_count": 50,
     "metadata": {},
     "output_type": "execute_result"
    }
   ],
   "source": [
    "name.endswith('h')"
   ]
  },
  {
   "cell_type": "markdown",
   "id": "40f687a0",
   "metadata": {},
   "source": [
    "## Checking Strings"
   ]
  },
  {
   "cell_type": "code",
   "execution_count": 51,
   "id": "01f8ee86",
   "metadata": {},
   "outputs": [],
   "source": [
    "#to check certain character is present or not \n",
    "info = \"I am Harsh Patil an ECE Engineer\""
   ]
  },
  {
   "cell_type": "code",
   "execution_count": 52,
   "id": "287acb98",
   "metadata": {},
   "outputs": [
    {
     "data": {
      "text/plain": [
       "True"
      ]
     },
     "execution_count": 52,
     "metadata": {},
     "output_type": "execute_result"
    }
   ],
   "source": [
    "\"Harsh\" in info "
   ]
  },
  {
   "cell_type": "code",
   "execution_count": 53,
   "id": "0cac8d95",
   "metadata": {},
   "outputs": [
    {
     "name": "stdout",
     "output_type": "stream",
     "text": [
      "30\n"
     ]
    }
   ],
   "source": [
    "def add_number(a,b):  #function\n",
    "    print(a+b)\n",
    "    \n",
    "a = 10\n",
    "b = 20 \n",
    "add_number(a,b)"
   ]
  },
  {
   "cell_type": "code",
   "execution_count": 54,
   "id": "4e7cb220",
   "metadata": {},
   "outputs": [
    {
     "name": "stdout",
     "output_type": "stream",
     "text": [
      "30\n"
     ]
    }
   ],
   "source": [
    "add_number(12,18)"
   ]
  },
  {
   "cell_type": "code",
   "execution_count": 55,
   "id": "250ecdb9",
   "metadata": {},
   "outputs": [
    {
     "name": "stdout",
     "output_type": "stream",
     "text": [
      "Training is going well\n",
      "Training is going well\n",
      "Wrong\n"
     ]
    }
   ],
   "source": [
    "positive_info = ['Harsh','ECE']\n",
    "for i in info.split():\n",
    "    if i in positive_info:\n",
    "        print(\"Training is going well\")\n",
    "else:\n",
    "             print(\"Wrong\")\n",
    "            \n",
    "       "
   ]
  },
  {
   "cell_type": "markdown",
   "id": "a3e8777d",
   "metadata": {},
   "source": [
    "## Number in Python"
   ]
  },
  {
   "cell_type": "code",
   "execution_count": 56,
   "id": "29ea1c0e",
   "metadata": {},
   "outputs": [
    {
     "data": {
      "text/plain": [
       "3.0"
      ]
     },
     "execution_count": 56,
     "metadata": {},
     "output_type": "execute_result"
    }
   ],
   "source": [
    "# it works as BODMAS rule\n",
    "2+2/2"
   ]
  },
  {
   "cell_type": "markdown",
   "id": "968401d3",
   "metadata": {},
   "source": [
    "## List is also sequence but it is mutable"
   ]
  },
  {
   "cell_type": "code",
   "execution_count": 57,
   "id": "383c8c73",
   "metadata": {},
   "outputs": [],
   "source": [
    "# create a list\n",
    "my_list = [1,2,3]"
   ]
  },
  {
   "cell_type": "code",
   "execution_count": 58,
   "id": "f4720f3d",
   "metadata": {},
   "outputs": [
    {
     "data": {
      "text/plain": [
       "[1, 2, 3]"
      ]
     },
     "execution_count": 58,
     "metadata": {},
     "output_type": "execute_result"
    }
   ],
   "source": [
    "my_list"
   ]
  },
  {
   "cell_type": "code",
   "execution_count": 59,
   "id": "1e382ae0",
   "metadata": {},
   "outputs": [
    {
     "data": {
      "text/plain": [
       "list"
      ]
     },
     "execution_count": 59,
     "metadata": {},
     "output_type": "execute_result"
    }
   ],
   "source": [
    "type(my_list)"
   ]
  },
  {
   "cell_type": "code",
   "execution_count": 60,
   "id": "5e2a7a4a",
   "metadata": {},
   "outputs": [
    {
     "data": {
      "text/plain": [
       "['String', 2, 3.2, True]"
      ]
     },
     "execution_count": 60,
     "metadata": {},
     "output_type": "execute_result"
    }
   ],
   "source": [
    "my_list1 = ['String',2,3.2,True]\n",
    "my_list1"
   ]
  },
  {
   "cell_type": "code",
   "execution_count": 61,
   "id": "e44f4089",
   "metadata": {},
   "outputs": [
    {
     "data": {
      "text/plain": [
       "'String'"
      ]
     },
     "execution_count": 61,
     "metadata": {},
     "output_type": "execute_result"
    }
   ],
   "source": [
    "my_list1[0]"
   ]
  },
  {
   "cell_type": "code",
   "execution_count": 62,
   "id": "f9f0a2ed",
   "metadata": {},
   "outputs": [
    {
     "data": {
      "text/plain": [
       "4"
      ]
     },
     "execution_count": 62,
     "metadata": {},
     "output_type": "execute_result"
    }
   ],
   "source": [
    "len(my_list1)"
   ]
  },
  {
   "cell_type": "code",
   "execution_count": 63,
   "id": "ca0129fd",
   "metadata": {},
   "outputs": [
    {
     "data": {
      "text/plain": [
       "'String'"
      ]
     },
     "execution_count": 63,
     "metadata": {},
     "output_type": "execute_result"
    }
   ],
   "source": [
    "my_list1[0]"
   ]
  },
  {
   "cell_type": "code",
   "execution_count": 64,
   "id": "7f1f35cf",
   "metadata": {},
   "outputs": [
    {
     "data": {
      "text/plain": [
       "'r'"
      ]
     },
     "execution_count": 64,
     "metadata": {},
     "output_type": "execute_result"
    }
   ],
   "source": [
    "my_list1[0][2]   #first bracket is for elemnts of list and second for the elemnt of the selected element"
   ]
  },
  {
   "cell_type": "code",
   "execution_count": 65,
   "id": "f9e0c835",
   "metadata": {},
   "outputs": [],
   "source": [
    "my_list1[1] = 4"
   ]
  },
  {
   "cell_type": "code",
   "execution_count": 66,
   "id": "3843959a",
   "metadata": {},
   "outputs": [
    {
     "data": {
      "text/plain": [
       "['String', 4, 3.2, True]"
      ]
     },
     "execution_count": 66,
     "metadata": {},
     "output_type": "execute_result"
    }
   ],
   "source": [
    "my_list1"
   ]
  },
  {
   "cell_type": "code",
   "execution_count": 67,
   "id": "ffd98824",
   "metadata": {},
   "outputs": [
    {
     "data": {
      "text/plain": [
       "['String', 4, 3.2, True, 'new data']"
      ]
     },
     "execution_count": 67,
     "metadata": {},
     "output_type": "execute_result"
    }
   ],
   "source": [
    "my_list1 + ['new data']"
   ]
  },
  {
   "cell_type": "markdown",
   "id": "2b05ff81",
   "metadata": {},
   "source": [
    "#### Pop is used to pop out the element from the list, by default it will pop the last index position, but we can also specify which index to pop"
   ]
  },
  {
   "cell_type": "code",
   "execution_count": 68,
   "id": "49470a58",
   "metadata": {},
   "outputs": [
    {
     "data": {
      "text/plain": [
       "True"
      ]
     },
     "execution_count": 68,
     "metadata": {},
     "output_type": "execute_result"
    }
   ],
   "source": [
    "my_list1.pop()"
   ]
  },
  {
   "cell_type": "code",
   "execution_count": 69,
   "id": "28667a64",
   "metadata": {},
   "outputs": [
    {
     "data": {
      "text/plain": [
       "['String', 4, 3.2]"
      ]
     },
     "execution_count": 69,
     "metadata": {},
     "output_type": "execute_result"
    }
   ],
   "source": [
    "my_list1"
   ]
  },
  {
   "cell_type": "code",
   "execution_count": 70,
   "id": "6c46f6ea",
   "metadata": {},
   "outputs": [
    {
     "data": {
      "text/plain": [
       "4"
      ]
     },
     "execution_count": 70,
     "metadata": {},
     "output_type": "execute_result"
    }
   ],
   "source": [
    "my_list1.pop(1)"
   ]
  },
  {
   "cell_type": "code",
   "execution_count": 71,
   "id": "af976805",
   "metadata": {},
   "outputs": [
    {
     "data": {
      "text/plain": [
       "['String', 3.2]"
      ]
     },
     "execution_count": 71,
     "metadata": {},
     "output_type": "execute_result"
    }
   ],
   "source": [
    "my_list1"
   ]
  },
  {
   "cell_type": "code",
   "execution_count": 72,
   "id": "a5321e72",
   "metadata": {},
   "outputs": [],
   "source": [
    "a = [1,5,4,7,8]"
   ]
  },
  {
   "cell_type": "code",
   "execution_count": 73,
   "id": "28d74c8c",
   "metadata": {},
   "outputs": [
    {
     "data": {
      "text/plain": [
       "[1, 5, 4, 7, 8]"
      ]
     },
     "execution_count": 73,
     "metadata": {},
     "output_type": "execute_result"
    }
   ],
   "source": [
    "a"
   ]
  },
  {
   "cell_type": "code",
   "execution_count": 74,
   "id": "d5cdb981",
   "metadata": {},
   "outputs": [],
   "source": [
    "a.sort()  #sorts the data in ascending order"
   ]
  },
  {
   "cell_type": "code",
   "execution_count": 75,
   "id": "0f0a310f",
   "metadata": {},
   "outputs": [
    {
     "data": {
      "text/plain": [
       "[1, 4, 5, 7, 8]"
      ]
     },
     "execution_count": 75,
     "metadata": {},
     "output_type": "execute_result"
    }
   ],
   "source": [
    "a"
   ]
  },
  {
   "cell_type": "code",
   "execution_count": 76,
   "id": "28e2aa6c",
   "metadata": {},
   "outputs": [],
   "source": [
    "a.sort(reverse=True) #sorts the list in descending order"
   ]
  },
  {
   "cell_type": "code",
   "execution_count": 77,
   "id": "4bdbdb55",
   "metadata": {},
   "outputs": [
    {
     "data": {
      "text/plain": [
       "[8, 7, 5, 4, 1]"
      ]
     },
     "execution_count": 77,
     "metadata": {},
     "output_type": "execute_result"
    }
   ],
   "source": [
    "a"
   ]
  },
  {
   "cell_type": "code",
   "execution_count": 78,
   "id": "3089c042",
   "metadata": {},
   "outputs": [],
   "source": [
    "a = [1,5,4,7,8]\n",
    "a.reverse()        #reverse's the list wihtout sorting"
   ]
  },
  {
   "cell_type": "code",
   "execution_count": 79,
   "id": "dfdbd448",
   "metadata": {},
   "outputs": [
    {
     "data": {
      "text/plain": [
       "[8, 7, 4, 5, 1]"
      ]
     },
     "execution_count": 79,
     "metadata": {},
     "output_type": "execute_result"
    }
   ],
   "source": [
    "a"
   ]
  },
  {
   "cell_type": "markdown",
   "id": "6d7dff19",
   "metadata": {},
   "source": [
    "## Nested List"
   ]
  },
  {
   "cell_type": "code",
   "execution_count": 80,
   "id": "29f1d968",
   "metadata": {},
   "outputs": [],
   "source": [
    "list1=[1,2,3]\n",
    "list2=[4,5,6]\n",
    "list3=[7,8,9]\n",
    "\n",
    "data = [list1,list2,list3]"
   ]
  },
  {
   "cell_type": "code",
   "execution_count": 81,
   "id": "d2ded7d0",
   "metadata": {},
   "outputs": [
    {
     "data": {
      "text/plain": [
       "[[1, 2, 3], [4, 5, 6], [7, 8, 9]]"
      ]
     },
     "execution_count": 81,
     "metadata": {},
     "output_type": "execute_result"
    }
   ],
   "source": [
    "data"
   ]
  },
  {
   "cell_type": "code",
   "execution_count": 82,
   "id": "c7bcfbf1",
   "metadata": {},
   "outputs": [
    {
     "data": {
      "text/plain": [
       "[4, 5, 6]"
      ]
     },
     "execution_count": 82,
     "metadata": {},
     "output_type": "execute_result"
    }
   ],
   "source": [
    "data[1]"
   ]
  },
  {
   "cell_type": "code",
   "execution_count": 83,
   "id": "3aecc1d8",
   "metadata": {},
   "outputs": [
    {
     "data": {
      "text/plain": [
       "6"
      ]
     },
     "execution_count": 83,
     "metadata": {},
     "output_type": "execute_result"
    }
   ],
   "source": [
    "data[1][2]"
   ]
  },
  {
   "cell_type": "code",
   "execution_count": 84,
   "id": "79c458b0",
   "metadata": {},
   "outputs": [],
   "source": [
    "info = [[1,2,3],['Harsh','Patil']]"
   ]
  },
  {
   "cell_type": "code",
   "execution_count": 85,
   "id": "47e2d83a",
   "metadata": {},
   "outputs": [
    {
     "data": {
      "text/plain": [
       "'Harsh'"
      ]
     },
     "execution_count": 85,
     "metadata": {},
     "output_type": "execute_result"
    }
   ],
   "source": [
    "info[1][0]"
   ]
  },
  {
   "cell_type": "code",
   "execution_count": 86,
   "id": "efa63912",
   "metadata": {},
   "outputs": [
    {
     "data": {
      "text/plain": [
       "'r'"
      ]
     },
     "execution_count": 86,
     "metadata": {},
     "output_type": "execute_result"
    }
   ],
   "source": [
    "info[1][0][2]"
   ]
  },
  {
   "cell_type": "code",
   "execution_count": 87,
   "id": "fb259c2d",
   "metadata": {},
   "outputs": [
    {
     "data": {
      "text/plain": [
       "'hsraH'"
      ]
     },
     "execution_count": 87,
     "metadata": {},
     "output_type": "execute_result"
    }
   ],
   "source": [
    "info[1][0][::-1]   # last bracket perform the reverse of string"
   ]
  },
  {
   "cell_type": "code",
   "execution_count": 88,
   "id": "c20ef2f1",
   "metadata": {},
   "outputs": [
    {
     "data": {
      "text/plain": [
       "'Harsh'"
      ]
     },
     "execution_count": 88,
     "metadata": {},
     "output_type": "execute_result"
    }
   ],
   "source": [
    "a = 'Harsh'\n",
    "a[:len(a)]"
   ]
  },
  {
   "cell_type": "code",
   "execution_count": 89,
   "id": "3ec49438",
   "metadata": {},
   "outputs": [],
   "source": [
    "list1 = [1,2,3]\n",
    "list1.append(4)    #adds elemnt to the list"
   ]
  },
  {
   "cell_type": "code",
   "execution_count": 90,
   "id": "657e4489",
   "metadata": {},
   "outputs": [
    {
     "data": {
      "text/plain": [
       "[1, 2, 3, 4]"
      ]
     },
     "execution_count": 90,
     "metadata": {},
     "output_type": "execute_result"
    }
   ],
   "source": [
    "list1"
   ]
  },
  {
   "cell_type": "markdown",
   "id": "0b1d1a07",
   "metadata": {},
   "source": [
    "## Count"
   ]
  },
  {
   "cell_type": "code",
   "execution_count": 91,
   "id": "a38ad74e",
   "metadata": {},
   "outputs": [
    {
     "data": {
      "text/plain": [
       "1"
      ]
     },
     "execution_count": 91,
     "metadata": {},
     "output_type": "execute_result"
    }
   ],
   "source": [
    "list1.count(3)   #counts the given element in the list"
   ]
  },
  {
   "cell_type": "markdown",
   "id": "97239140",
   "metadata": {},
   "source": [
    "## Extend\n",
    "\n",
    "#### extend list by appending elements from the iterable"
   ]
  },
  {
   "cell_type": "code",
   "execution_count": 92,
   "id": "54287ede",
   "metadata": {},
   "outputs": [],
   "source": [
    "list1 = [1,2,3]\n"
   ]
  },
  {
   "cell_type": "code",
   "execution_count": 93,
   "id": "89295847",
   "metadata": {},
   "outputs": [
    {
     "data": {
      "text/plain": [
       "[1, 2, 3]"
      ]
     },
     "execution_count": 93,
     "metadata": {},
     "output_type": "execute_result"
    }
   ],
   "source": [
    "list1"
   ]
  },
  {
   "cell_type": "code",
   "execution_count": 94,
   "id": "68610662",
   "metadata": {},
   "outputs": [
    {
     "data": {
      "text/plain": [
       "[1, 2, 3, [4, 5, 6]]"
      ]
     },
     "execution_count": 94,
     "metadata": {},
     "output_type": "execute_result"
    }
   ],
   "source": [
    "list1.append([4,5,6])\n",
    "list1"
   ]
  },
  {
   "cell_type": "code",
   "execution_count": 95,
   "id": "76340018",
   "metadata": {},
   "outputs": [
    {
     "data": {
      "text/plain": [
       "4"
      ]
     },
     "execution_count": 95,
     "metadata": {},
     "output_type": "execute_result"
    }
   ],
   "source": [
    "len(list1)"
   ]
  },
  {
   "cell_type": "code",
   "execution_count": 96,
   "id": "bd543067",
   "metadata": {},
   "outputs": [],
   "source": [
    "list1 = [1,2,3]\n",
    "list1.extend([4,5,6])"
   ]
  },
  {
   "cell_type": "code",
   "execution_count": 97,
   "id": "c6edbd95",
   "metadata": {},
   "outputs": [
    {
     "data": {
      "text/plain": [
       "[1, 2, 3, 4, 5, 6]"
      ]
     },
     "execution_count": 97,
     "metadata": {},
     "output_type": "execute_result"
    }
   ],
   "source": [
    "list1"
   ]
  },
  {
   "cell_type": "code",
   "execution_count": 98,
   "id": "c1369b8d",
   "metadata": {},
   "outputs": [
    {
     "data": {
      "text/plain": [
       "6"
      ]
     },
     "execution_count": 98,
     "metadata": {},
     "output_type": "execute_result"
    }
   ],
   "source": [
    "len(list1)"
   ]
  },
  {
   "cell_type": "markdown",
   "id": "5782db7b",
   "metadata": {},
   "source": [
    "## Insert\n",
    "\n",
    "####  Insert takes 2 arguments ie insert(index,object)"
   ]
  },
  {
   "cell_type": "code",
   "execution_count": 99,
   "id": "aaa6bd7c",
   "metadata": {},
   "outputs": [
    {
     "data": {
      "text/plain": [
       "[1, 2, 3, 4, 5, 6]"
      ]
     },
     "execution_count": 99,
     "metadata": {},
     "output_type": "execute_result"
    }
   ],
   "source": [
    "list1"
   ]
  },
  {
   "cell_type": "code",
   "execution_count": 100,
   "id": "dae5d97f",
   "metadata": {},
   "outputs": [],
   "source": [
    "list1.insert(0,0)"
   ]
  },
  {
   "cell_type": "code",
   "execution_count": 101,
   "id": "353cad92",
   "metadata": {},
   "outputs": [
    {
     "data": {
      "text/plain": [
       "[0, 1, 2, 3, 4, 5, 6]"
      ]
     },
     "execution_count": 101,
     "metadata": {},
     "output_type": "execute_result"
    }
   ],
   "source": [
    "list1"
   ]
  },
  {
   "cell_type": "markdown",
   "id": "acf41b6e",
   "metadata": {},
   "source": [
    "## Remove\n",
    "\n",
    "\n",
    "#### It removes the first occurance of the values"
   ]
  },
  {
   "cell_type": "code",
   "execution_count": 102,
   "id": "a2422ec4",
   "metadata": {},
   "outputs": [],
   "source": [
    "list1=[1,2,3,4,5,'Harsh']"
   ]
  },
  {
   "cell_type": "code",
   "execution_count": 103,
   "id": "4549b846",
   "metadata": {},
   "outputs": [],
   "source": [
    "list1.remove('Harsh')"
   ]
  },
  {
   "cell_type": "code",
   "execution_count": 104,
   "id": "b368b0b6",
   "metadata": {},
   "outputs": [
    {
     "data": {
      "text/plain": [
       "[1, 2, 3, 4, 5]"
      ]
     },
     "execution_count": 104,
     "metadata": {},
     "output_type": "execute_result"
    }
   ],
   "source": [
    "list1"
   ]
  },
  {
   "cell_type": "markdown",
   "id": "e41dfa23",
   "metadata": {},
   "source": [
    "pop() removes the element in the list based on index position                                 \n",
    "remove() removes the elemnt in the list based on value"
   ]
  },
  {
   "cell_type": "markdown",
   "id": "1246449b",
   "metadata": {},
   "source": [
    "## Clear\n",
    "\n",
    "#### clears the entire list"
   ]
  },
  {
   "cell_type": "code",
   "execution_count": 105,
   "id": "994dfb2a",
   "metadata": {},
   "outputs": [
    {
     "data": {
      "text/plain": [
       "[1, 2, 3, 4, 5]"
      ]
     },
     "execution_count": 105,
     "metadata": {},
     "output_type": "execute_result"
    }
   ],
   "source": [
    "list1"
   ]
  },
  {
   "cell_type": "code",
   "execution_count": 106,
   "id": "41dae340",
   "metadata": {},
   "outputs": [],
   "source": [
    "list1.clear()"
   ]
  },
  {
   "cell_type": "code",
   "execution_count": 107,
   "id": "aee6e559",
   "metadata": {},
   "outputs": [
    {
     "data": {
      "text/plain": [
       "[]"
      ]
     },
     "execution_count": 107,
     "metadata": {},
     "output_type": "execute_result"
    }
   ],
   "source": [
    "list1"
   ]
  },
  {
   "cell_type": "markdown",
   "id": "98f6f07c",
   "metadata": {},
   "source": [
    "## Tuples\n",
    "\n",
    "#### they are immutable"
   ]
  },
  {
   "cell_type": "code",
   "execution_count": 108,
   "id": "6bffb428",
   "metadata": {},
   "outputs": [],
   "source": [
    "t = (1,4,5,6)"
   ]
  },
  {
   "cell_type": "code",
   "execution_count": 109,
   "id": "1b234e01",
   "metadata": {},
   "outputs": [
    {
     "data": {
      "text/plain": [
       "(1, 4, 5, 6)"
      ]
     },
     "execution_count": 109,
     "metadata": {},
     "output_type": "execute_result"
    }
   ],
   "source": [
    "t"
   ]
  },
  {
   "cell_type": "markdown",
   "id": "f0d000e2",
   "metadata": {},
   "source": [
    "t[1]=2   # the eroor shows beacuse it is immutable"
   ]
  },
  {
   "cell_type": "markdown",
   "id": "fda28fed",
   "metadata": {},
   "source": [
    "## Dictionaries\n",
    "\n",
    "\n",
    "#### Synatx = {'key1' : 'value1' , 'key2' : 'value2'}"
   ]
  },
  {
   "cell_type": "code",
   "execution_count": 110,
   "id": "90dbb8d2",
   "metadata": {},
   "outputs": [],
   "source": [
    "mydict = {'key1' : 'value1' , 'key2' : 'value2'}\n"
   ]
  },
  {
   "cell_type": "code",
   "execution_count": 111,
   "id": "768dc0eb",
   "metadata": {},
   "outputs": [
    {
     "data": {
      "text/plain": [
       "'value2'"
      ]
     },
     "execution_count": 111,
     "metadata": {},
     "output_type": "execute_result"
    }
   ],
   "source": [
    "mydict['key2']"
   ]
  },
  {
   "cell_type": "code",
   "execution_count": 112,
   "id": "db9ae9ad",
   "metadata": {},
   "outputs": [
    {
     "data": {
      "text/plain": [
       "dict_keys(['key1', 'key2'])"
      ]
     },
     "execution_count": 112,
     "metadata": {},
     "output_type": "execute_result"
    }
   ],
   "source": [
    "#to extract all key names\n",
    "mydict.keys()"
   ]
  },
  {
   "cell_type": "code",
   "execution_count": 113,
   "id": "e6860c17",
   "metadata": {},
   "outputs": [
    {
     "data": {
      "text/plain": [
       "dict_values(['value1', 'value2'])"
      ]
     },
     "execution_count": 113,
     "metadata": {},
     "output_type": "execute_result"
    }
   ],
   "source": [
    "#for only values\n",
    "mydict.values()"
   ]
  },
  {
   "cell_type": "code",
   "execution_count": 114,
   "id": "d5077017",
   "metadata": {},
   "outputs": [],
   "source": [
    "info = {'Names':['Harsh','Om','Sid'],'Marks':[84,90,96]}\n"
   ]
  },
  {
   "cell_type": "code",
   "execution_count": 115,
   "id": "4d3d5415",
   "metadata": {},
   "outputs": [
    {
     "data": {
      "text/plain": [
       "dict_keys(['Names', 'Marks'])"
      ]
     },
     "execution_count": 115,
     "metadata": {},
     "output_type": "execute_result"
    }
   ],
   "source": [
    "info.keys()"
   ]
  },
  {
   "cell_type": "code",
   "execution_count": 116,
   "id": "8cd355d8",
   "metadata": {},
   "outputs": [
    {
     "data": {
      "text/plain": [
       "dict_values([['Harsh', 'Om', 'Sid'], [84, 90, 96]])"
      ]
     },
     "execution_count": 116,
     "metadata": {},
     "output_type": "execute_result"
    }
   ],
   "source": [
    "info.values()"
   ]
  },
  {
   "cell_type": "code",
   "execution_count": 117,
   "id": "3ab5d0c0",
   "metadata": {},
   "outputs": [
    {
     "data": {
      "text/plain": [
       "'Harsh'"
      ]
     },
     "execution_count": 117,
     "metadata": {},
     "output_type": "execute_result"
    }
   ],
   "source": [
    "info['Names'][0]"
   ]
  },
  {
   "cell_type": "markdown",
   "id": "5ed652db",
   "metadata": {},
   "source": [
    " ### zip takes first element of one list and zips with the firdt elemnt of other list and so onn"
   ]
  },
  {
   "cell_type": "code",
   "execution_count": 118,
   "id": "92eaad97",
   "metadata": {},
   "outputs": [
    {
     "data": {
      "text/plain": [
       "[('Harsh', 84), ('Om', 90), ('Sid', 96)]"
      ]
     },
     "execution_count": 118,
     "metadata": {},
     "output_type": "execute_result"
    }
   ],
   "source": [
    "list(zip(info['Names'],info['Marks']))  "
   ]
  },
  {
   "cell_type": "code",
   "execution_count": 119,
   "id": "46207274",
   "metadata": {},
   "outputs": [
    {
     "data": {
      "text/plain": [
       "('Harsh', 84)"
      ]
     },
     "execution_count": 119,
     "metadata": {},
     "output_type": "execute_result"
    }
   ],
   "source": [
    "list(zip(info['Names'],info['Marks']))[0]"
   ]
  },
  {
   "cell_type": "markdown",
   "id": "b6c0494c",
   "metadata": {},
   "source": [
    "# Sets\n",
    "\n",
    "#### It does not allow any duplication"
   ]
  },
  {
   "cell_type": "code",
   "execution_count": 120,
   "id": "9ca90aa0",
   "metadata": {},
   "outputs": [],
   "source": [
    "a = set()"
   ]
  },
  {
   "cell_type": "code",
   "execution_count": 121,
   "id": "64f4a9a2",
   "metadata": {},
   "outputs": [
    {
     "data": {
      "text/plain": [
       "set"
      ]
     },
     "execution_count": 121,
     "metadata": {},
     "output_type": "execute_result"
    }
   ],
   "source": [
    "type(a)"
   ]
  },
  {
   "cell_type": "code",
   "execution_count": 122,
   "id": "1903f092",
   "metadata": {},
   "outputs": [
    {
     "data": {
      "text/plain": [
       "set"
      ]
     },
     "execution_count": 122,
     "metadata": {},
     "output_type": "execute_result"
    }
   ],
   "source": [
    "a = {1,2,3,4}\n",
    "type(a)"
   ]
  },
  {
   "cell_type": "code",
   "execution_count": 123,
   "id": "98a6307d",
   "metadata": {},
   "outputs": [],
   "source": [
    "a = set()"
   ]
  },
  {
   "cell_type": "code",
   "execution_count": 124,
   "id": "2ccc7b52",
   "metadata": {},
   "outputs": [],
   "source": [
    "a.add(2)  # adding elements to empty set"
   ]
  },
  {
   "cell_type": "code",
   "execution_count": 125,
   "id": "40084594",
   "metadata": {},
   "outputs": [
    {
     "data": {
      "text/plain": [
       "{2}"
      ]
     },
     "execution_count": 125,
     "metadata": {},
     "output_type": "execute_result"
    }
   ],
   "source": [
    "a"
   ]
  },
  {
   "cell_type": "code",
   "execution_count": 126,
   "id": "154fc384",
   "metadata": {},
   "outputs": [
    {
     "data": {
      "text/plain": [
       "{2, 4}"
      ]
     },
     "execution_count": 126,
     "metadata": {},
     "output_type": "execute_result"
    }
   ],
   "source": [
    "a.add(4)\n",
    "a"
   ]
  },
  {
   "cell_type": "code",
   "execution_count": 127,
   "id": "d18c701a",
   "metadata": {},
   "outputs": [
    {
     "data": {
      "text/plain": [
       "{2, 4}"
      ]
     },
     "execution_count": 127,
     "metadata": {},
     "output_type": "execute_result"
    }
   ],
   "source": [
    "a.add(4)    # duplicates are not allowed\n",
    "a"
   ]
  },
  {
   "cell_type": "code",
   "execution_count": 128,
   "id": "38955dd1",
   "metadata": {},
   "outputs": [
    {
     "data": {
      "text/plain": [
       "{1, 2, 3, 4, 5, 6}"
      ]
     },
     "execution_count": 128,
     "metadata": {},
     "output_type": "execute_result"
    }
   ],
   "source": [
    "a = [1,2,2,3,4,5,3,2,3,2,2,6]   #duplicates are removed\n",
    "set(a)"
   ]
  },
  {
   "cell_type": "markdown",
   "id": "93557c57",
   "metadata": {},
   "source": [
    "## Differences"
   ]
  },
  {
   "cell_type": "code",
   "execution_count": 129,
   "id": "93d6c33d",
   "metadata": {},
   "outputs": [],
   "source": [
    "set1 = {2,3,4,5,6}\n",
    "set2 = {5,6,7,8}\n"
   ]
  },
  {
   "cell_type": "code",
   "execution_count": 130,
   "id": "3ed8854f",
   "metadata": {},
   "outputs": [
    {
     "data": {
      "text/plain": [
       "{2, 3, 4}"
      ]
     },
     "execution_count": 130,
     "metadata": {},
     "output_type": "execute_result"
    }
   ],
   "source": [
    "set1.difference(set2)   #prints only data which are present in set 1 and not in set 2"
   ]
  },
  {
   "cell_type": "markdown",
   "id": "3961a249",
   "metadata": {},
   "source": [
    "## difference_update"
   ]
  },
  {
   "cell_type": "code",
   "execution_count": 131,
   "id": "11d68239",
   "metadata": {},
   "outputs": [],
   "source": [
    "set1.difference_update(set2) # updates the set 1"
   ]
  },
  {
   "cell_type": "code",
   "execution_count": 132,
   "id": "5b574824",
   "metadata": {},
   "outputs": [
    {
     "data": {
      "text/plain": [
       "{2, 3, 4}"
      ]
     },
     "execution_count": 132,
     "metadata": {},
     "output_type": "execute_result"
    }
   ],
   "source": [
    "set1\n"
   ]
  },
  {
   "cell_type": "markdown",
   "id": "08615946",
   "metadata": {},
   "source": [
    " # Intersection\n",
    " \n",
    " #### returns intersection or common elements of two or more sets"
   ]
  },
  {
   "cell_type": "code",
   "execution_count": 133,
   "id": "aa5a6f53",
   "metadata": {},
   "outputs": [],
   "source": [
    "a = {1,2,3,4,5}\n",
    "b = {4,5,6,7,8}"
   ]
  },
  {
   "cell_type": "code",
   "execution_count": 134,
   "id": "89a00ff3",
   "metadata": {},
   "outputs": [
    {
     "data": {
      "text/plain": [
       "{4, 5}"
      ]
     },
     "execution_count": 134,
     "metadata": {},
     "output_type": "execute_result"
    }
   ],
   "source": [
    "a.intersection(b)   #returns the common elements from both set"
   ]
  },
  {
   "cell_type": "markdown",
   "id": "b79dfc71",
   "metadata": {},
   "source": [
    "# Union\n",
    "\n",
    "#### return the unique elemnts from both the sets"
   ]
  },
  {
   "cell_type": "code",
   "execution_count": 135,
   "id": "bb42a6bf",
   "metadata": {},
   "outputs": [
    {
     "name": "stdout",
     "output_type": "stream",
     "text": [
      "{1, 2, 3, 4, 5} {4, 5, 6, 7, 8}\n"
     ]
    }
   ],
   "source": [
    "print(a,b)"
   ]
  },
  {
   "cell_type": "code",
   "execution_count": 136,
   "id": "4985ff07",
   "metadata": {},
   "outputs": [
    {
     "data": {
      "text/plain": [
       "{1, 2, 3, 4, 5, 6, 7, 8}"
      ]
     },
     "execution_count": 136,
     "metadata": {},
     "output_type": "execute_result"
    }
   ],
   "source": [
    "a.union(b)\n"
   ]
  },
  {
   "cell_type": "markdown",
   "id": "67974809",
   "metadata": {},
   "source": [
    "## Symmetric Differnece"
   ]
  },
  {
   "cell_type": "code",
   "execution_count": 137,
   "id": "78067017",
   "metadata": {},
   "outputs": [
    {
     "data": {
      "text/plain": [
       "{1, 2, 3, 6, 7, 8}"
      ]
     },
     "execution_count": 137,
     "metadata": {},
     "output_type": "execute_result"
    }
   ],
   "source": [
    "a.symmetric_difference(b) #removes the common elements"
   ]
  },
  {
   "cell_type": "markdown",
   "id": "d77032f8",
   "metadata": {},
   "source": [
    "## isdisjoint\n",
    "\n",
    "#### This method will return true if two sets have null intersection elements"
   ]
  },
  {
   "cell_type": "code",
   "execution_count": 138,
   "id": "89dd4c91",
   "metadata": {},
   "outputs": [],
   "source": [
    "a = {1,2,3}\n",
    "b = {4,5,6}"
   ]
  },
  {
   "cell_type": "code",
   "execution_count": 139,
   "id": "9c67a803",
   "metadata": {},
   "outputs": [
    {
     "data": {
      "text/plain": [
       "True"
      ]
     },
     "execution_count": 139,
     "metadata": {},
     "output_type": "execute_result"
    }
   ],
   "source": [
    "a.isdisjoint(b)"
   ]
  },
  {
   "cell_type": "markdown",
   "id": "86a927fd",
   "metadata": {},
   "source": [
    "## issubset\n",
    "\n",
    "#### returns wether another set contains same element"
   ]
  },
  {
   "cell_type": "code",
   "execution_count": 140,
   "id": "ac3f97bd",
   "metadata": {},
   "outputs": [],
   "source": [
    "a = {1,2,3}\n",
    "b = {2,3}"
   ]
  },
  {
   "cell_type": "code",
   "execution_count": 141,
   "id": "3a5bfa66",
   "metadata": {},
   "outputs": [
    {
     "data": {
      "text/plain": [
       "False"
      ]
     },
     "execution_count": 141,
     "metadata": {},
     "output_type": "execute_result"
    }
   ],
   "source": [
    "a.issubset(b)"
   ]
  },
  {
   "cell_type": "code",
   "execution_count": 142,
   "id": "c2ee331b",
   "metadata": {},
   "outputs": [
    {
     "data": {
      "text/plain": [
       "True"
      ]
     },
     "execution_count": 142,
     "metadata": {},
     "output_type": "execute_result"
    }
   ],
   "source": [
    "b.issubset(a)"
   ]
  },
  {
   "cell_type": "markdown",
   "id": "2f7a5bef",
   "metadata": {},
   "source": [
    "## issuperset"
   ]
  },
  {
   "cell_type": "code",
   "execution_count": 143,
   "id": "2a80a13d",
   "metadata": {},
   "outputs": [
    {
     "data": {
      "text/plain": [
       "True"
      ]
     },
     "execution_count": 143,
     "metadata": {},
     "output_type": "execute_result"
    }
   ],
   "source": [
    "a.issuperset(b)"
   ]
  },
  {
   "cell_type": "code",
   "execution_count": 144,
   "id": "f4ee4467",
   "metadata": {},
   "outputs": [
    {
     "data": {
      "text/plain": [
       "False"
      ]
     },
     "execution_count": 144,
     "metadata": {},
     "output_type": "execute_result"
    }
   ],
   "source": [
    "b.issuperset(a)"
   ]
  },
  {
   "cell_type": "code",
   "execution_count": 145,
   "id": "97903f71",
   "metadata": {},
   "outputs": [
    {
     "data": {
      "text/plain": [
       "True"
      ]
     },
     "execution_count": 145,
     "metadata": {},
     "output_type": "execute_result"
    }
   ],
   "source": [
    "a.issuperset(b)"
   ]
  },
  {
   "cell_type": "markdown",
   "id": "9c736169",
   "metadata": {},
   "source": [
    "# Operators\n",
    "\n",
    "1)Arthmetic                                                                                 \n",
    "2)Assignment                                                                                             \n",
    "3)Comparison (Relational)                                                                                   \n",
    "4)Logical                                                                                    \n",
    "5)Membership                                                                                           \n",
    "6)Identity                                                                                                  \n",
    "7)Bitwise                                                                                                      "
   ]
  },
  {
   "cell_type": "markdown",
   "id": "f15e73e8",
   "metadata": {},
   "source": [
    "### 1) Arthmetic Op\n",
    "\n"
   ]
  },
  {
   "cell_type": "markdown",
   "id": "605eef40",
   "metadata": {},
   "source": [
    "1)Addition                   (+)                                                                                                 \n",
    "2)Subraction                 (-)                                                                                                 \n",
    "3)Multipication              (*)                                                                         \n",
    "4)Division                   (/)                                                                     \n",
    "5)Modulus                    (%)                                                                 \n",
    "6)Exponential                (**)                                              \n",
    "7)Floor Division             (//)"
   ]
  },
  {
   "cell_type": "code",
   "execution_count": 146,
   "id": "5f56e0bc",
   "metadata": {},
   "outputs": [
    {
     "data": {
      "text/plain": [
       "15"
      ]
     },
     "execution_count": 146,
     "metadata": {},
     "output_type": "execute_result"
    }
   ],
   "source": [
    "5+10"
   ]
  },
  {
   "cell_type": "code",
   "execution_count": 147,
   "id": "5eccb5eb",
   "metadata": {},
   "outputs": [
    {
     "name": "stdout",
     "output_type": "stream",
     "text": [
      "Addition = 14\n"
     ]
    }
   ],
   "source": [
    "x = 8\n",
    "y = 6\n",
    "print(\"Addition =\",x+y)"
   ]
  },
  {
   "cell_type": "code",
   "execution_count": 148,
   "id": "803a6b30",
   "metadata": {},
   "outputs": [
    {
     "name": "stdout",
     "output_type": "stream",
     "text": [
      "Subraction = 2\n"
     ]
    }
   ],
   "source": [
    "print(\"Subraction =\",x-y)"
   ]
  },
  {
   "cell_type": "code",
   "execution_count": 149,
   "id": "e1eb3ba7",
   "metadata": {},
   "outputs": [
    {
     "name": "stdout",
     "output_type": "stream",
     "text": [
      "Addition = 14 Subraction = 2 Multiplication = 48\n"
     ]
    }
   ],
   "source": [
    "print(f\"Addition = {x+y} Subraction = {x-y} Multiplication = {x*y}\")"
   ]
  },
  {
   "cell_type": "code",
   "execution_count": 150,
   "id": "b3570503",
   "metadata": {},
   "outputs": [
    {
     "name": "stdout",
     "output_type": "stream",
     "text": [
      "Division = 1.3333333333333333\n"
     ]
    }
   ],
   "source": [
    "print(\"Division =\",x/y)"
   ]
  },
  {
   "cell_type": "code",
   "execution_count": 151,
   "id": "148f5115",
   "metadata": {},
   "outputs": [
    {
     "name": "stdout",
     "output_type": "stream",
     "text": [
      "Modudlus = 2\n"
     ]
    }
   ],
   "source": [
    "print(\"Modudlus =\",x%y)"
   ]
  },
  {
   "cell_type": "code",
   "execution_count": 152,
   "id": "6c711f4f",
   "metadata": {},
   "outputs": [
    {
     "name": "stdout",
     "output_type": "stream",
     "text": [
      "Exponentional = 64\n"
     ]
    }
   ],
   "source": [
    "print(\"Exponentional =\", x**2)"
   ]
  },
  {
   "cell_type": "code",
   "execution_count": 153,
   "id": "903e7a18",
   "metadata": {},
   "outputs": [
    {
     "name": "stdout",
     "output_type": "stream",
     "text": [
      "Floor Divison = 1\n"
     ]
    }
   ],
   "source": [
    "print(\"Floor Divison =\",x//y)"
   ]
  },
  {
   "cell_type": "markdown",
   "id": "ba5a315a",
   "metadata": {},
   "source": [
    "## Assignment Operation\n",
    "\n",
    "1) +=\n",
    "2) -=\n",
    "3) *="
   ]
  },
  {
   "cell_type": "code",
   "execution_count": 154,
   "id": "4a62aa4d",
   "metadata": {},
   "outputs": [],
   "source": [
    "num1 = 10\n",
    "num2 = 20\n",
    "num3 = num1 + num2"
   ]
  },
  {
   "cell_type": "code",
   "execution_count": 155,
   "id": "5403b50c",
   "metadata": {},
   "outputs": [
    {
     "data": {
      "text/plain": [
       "30"
      ]
     },
     "execution_count": 155,
     "metadata": {},
     "output_type": "execute_result"
    }
   ],
   "source": [
    "num3"
   ]
  },
  {
   "cell_type": "code",
   "execution_count": 156,
   "id": "1283c797",
   "metadata": {},
   "outputs": [],
   "source": [
    "num3 = num3 + num2"
   ]
  },
  {
   "cell_type": "code",
   "execution_count": 157,
   "id": "cbf07c1f",
   "metadata": {},
   "outputs": [
    {
     "data": {
      "text/plain": [
       "50"
      ]
     },
     "execution_count": 157,
     "metadata": {},
     "output_type": "execute_result"
    }
   ],
   "source": [
    "num3"
   ]
  },
  {
   "cell_type": "code",
   "execution_count": 158,
   "id": "17071315",
   "metadata": {},
   "outputs": [],
   "source": [
    "num3 += num2"
   ]
  },
  {
   "cell_type": "code",
   "execution_count": 159,
   "id": "bd52db78",
   "metadata": {},
   "outputs": [
    {
     "data": {
      "text/plain": [
       "70"
      ]
     },
     "execution_count": 159,
     "metadata": {},
     "output_type": "execute_result"
    }
   ],
   "source": [
    "num3\n"
   ]
  },
  {
   "cell_type": "code",
   "execution_count": 160,
   "id": "ee738b34",
   "metadata": {},
   "outputs": [],
   "source": [
    "num3 -= num2"
   ]
  },
  {
   "cell_type": "code",
   "execution_count": 161,
   "id": "39ec0d9e",
   "metadata": {},
   "outputs": [
    {
     "data": {
      "text/plain": [
       "50"
      ]
     },
     "execution_count": 161,
     "metadata": {},
     "output_type": "execute_result"
    }
   ],
   "source": [
    "num3"
   ]
  },
  {
   "cell_type": "markdown",
   "id": "ced6aa98",
   "metadata": {},
   "source": [
    "### Perform the same operations for rest of the operators"
   ]
  },
  {
   "cell_type": "markdown",
   "id": "6447e5db",
   "metadata": {},
   "source": [
    "# Comprasion operator (relational)\n",
    "\n",
    "1)Equal too                   (==)                                      \n",
    "2)Not Equal to                (!=)                                       \n",
    "3)Greater Than                (>)                                       \n",
    "4)Less Than                   (<)                              \n",
    "5)Greater Than or Equal to    (>=)                              \n",
    "6)Less than or Equal to       (<=)     "
   ]
  },
  {
   "cell_type": "code",
   "execution_count": 162,
   "id": "50464c6e",
   "metadata": {},
   "outputs": [],
   "source": [
    "x =20\n",
    "y = 35"
   ]
  },
  {
   "cell_type": "code",
   "execution_count": 163,
   "id": "16e40713",
   "metadata": {},
   "outputs": [
    {
     "name": "stdout",
     "output_type": "stream",
     "text": [
      "False\n"
     ]
    }
   ],
   "source": [
    "compare = x==y \n",
    "print(compare)"
   ]
  },
  {
   "cell_type": "code",
   "execution_count": 164,
   "id": "e967141e",
   "metadata": {},
   "outputs": [
    {
     "data": {
      "text/plain": [
       "True"
      ]
     },
     "execution_count": 164,
     "metadata": {},
     "output_type": "execute_result"
    }
   ],
   "source": [
    "compare = x!=y\n",
    "compare"
   ]
  },
  {
   "cell_type": "code",
   "execution_count": 165,
   "id": "de3cc6c1",
   "metadata": {},
   "outputs": [
    {
     "data": {
      "text/plain": [
       "False"
      ]
     },
     "execution_count": 165,
     "metadata": {},
     "output_type": "execute_result"
    }
   ],
   "source": [
    "compare = x>y\n",
    "compare"
   ]
  },
  {
   "cell_type": "markdown",
   "id": "4324cf1e",
   "metadata": {},
   "source": [
    "# Logical operators\n",
    "\n",
    "1)and     (&&)                                                                     \n",
    "2)or      (||)                                                           \n",
    "3)not     (~)                                                             "
   ]
  },
  {
   "cell_type": "code",
   "execution_count": 166,
   "id": "f42c84b8",
   "metadata": {},
   "outputs": [
    {
     "data": {
      "text/plain": [
       "False"
      ]
     },
     "execution_count": 166,
     "metadata": {},
     "output_type": "execute_result"
    }
   ],
   "source": [
    "x = 10 \n",
    "x > 6 and x <5"
   ]
  },
  {
   "cell_type": "code",
   "execution_count": 167,
   "id": "445fc7b3",
   "metadata": {},
   "outputs": [
    {
     "data": {
      "text/plain": [
       "True"
      ]
     },
     "execution_count": 167,
     "metadata": {},
     "output_type": "execute_result"
    }
   ],
   "source": [
    "x > 6 or x <5"
   ]
  },
  {
   "cell_type": "code",
   "execution_count": 168,
   "id": "cc5858a2",
   "metadata": {},
   "outputs": [
    {
     "data": {
      "text/plain": [
       "True"
      ]
     },
     "execution_count": 168,
     "metadata": {},
     "output_type": "execute_result"
    }
   ],
   "source": [
    "not(x > 6 and x <5)"
   ]
  },
  {
   "cell_type": "markdown",
   "id": "7cbc9eb0",
   "metadata": {},
   "source": [
    "# Membership operator\n",
    "\n",
    "#### to check certain value is present or not in a list\n",
    "\n",
    "1) in                                                                 \n",
    "2) not in"
   ]
  },
  {
   "cell_type": "code",
   "execution_count": 169,
   "id": "33a34900",
   "metadata": {},
   "outputs": [],
   "source": [
    "list1= [2,4,6]\n",
    "a = 3"
   ]
  },
  {
   "cell_type": "code",
   "execution_count": 170,
   "id": "39d524ee",
   "metadata": {},
   "outputs": [
    {
     "data": {
      "text/plain": [
       "False"
      ]
     },
     "execution_count": 170,
     "metadata": {},
     "output_type": "execute_result"
    }
   ],
   "source": [
    "a in list1 "
   ]
  },
  {
   "cell_type": "code",
   "execution_count": 171,
   "id": "768a6b74",
   "metadata": {},
   "outputs": [
    {
     "data": {
      "text/plain": [
       "True"
      ]
     },
     "execution_count": 171,
     "metadata": {},
     "output_type": "execute_result"
    }
   ],
   "source": [
    "a = 2\n",
    "a in list1"
   ]
  },
  {
   "cell_type": "code",
   "execution_count": 172,
   "id": "09ef7284",
   "metadata": {},
   "outputs": [
    {
     "data": {
      "text/plain": [
       "True"
      ]
     },
     "execution_count": 172,
     "metadata": {},
     "output_type": "execute_result"
    }
   ],
   "source": [
    "a = 10 \n",
    "a not in list1"
   ]
  },
  {
   "cell_type": "markdown",
   "id": "5b18f8cc",
   "metadata": {},
   "source": [
    "# Identity Operator\n",
    "\n",
    "#### used to compare objects\n",
    "1) is\n",
    "2) is not"
   ]
  },
  {
   "cell_type": "code",
   "execution_count": 173,
   "id": "0bb5feb7",
   "metadata": {},
   "outputs": [],
   "source": [
    "list1 = [10,20,30]\n",
    "list2 = [12,20,30]"
   ]
  },
  {
   "cell_type": "code",
   "execution_count": 174,
   "id": "67b26be2",
   "metadata": {},
   "outputs": [],
   "source": [
    "list3 = list1"
   ]
  },
  {
   "cell_type": "code",
   "execution_count": 175,
   "id": "396dcb81",
   "metadata": {},
   "outputs": [
    {
     "data": {
      "text/plain": [
       "True"
      ]
     },
     "execution_count": 175,
     "metadata": {},
     "output_type": "execute_result"
    }
   ],
   "source": [
    "list1 is list3"
   ]
  },
  {
   "cell_type": "code",
   "execution_count": 176,
   "id": "9dc76284",
   "metadata": {},
   "outputs": [
    {
     "data": {
      "text/plain": [
       "False"
      ]
     },
     "execution_count": 176,
     "metadata": {},
     "output_type": "execute_result"
    }
   ],
   "source": [
    "list1 is list2"
   ]
  },
  {
   "cell_type": "code",
   "execution_count": 177,
   "id": "b617b058",
   "metadata": {},
   "outputs": [
    {
     "data": {
      "text/plain": [
       "2442921192512"
      ]
     },
     "execution_count": 177,
     "metadata": {},
     "output_type": "execute_result"
    }
   ],
   "source": [
    "id(list1)   # memory location of data"
   ]
  },
  {
   "cell_type": "code",
   "execution_count": 178,
   "id": "32f40360",
   "metadata": {},
   "outputs": [
    {
     "data": {
      "text/plain": [
       "2442921156800"
      ]
     },
     "execution_count": 178,
     "metadata": {},
     "output_type": "execute_result"
    }
   ],
   "source": [
    "id(list2)"
   ]
  },
  {
   "cell_type": "code",
   "execution_count": 179,
   "id": "0220fc5a",
   "metadata": {},
   "outputs": [
    {
     "data": {
      "text/plain": [
       "2442921192512"
      ]
     },
     "execution_count": 179,
     "metadata": {},
     "output_type": "execute_result"
    }
   ],
   "source": [
    "id(list3)"
   ]
  },
  {
   "cell_type": "code",
   "execution_count": 180,
   "id": "5246d1ac",
   "metadata": {},
   "outputs": [
    {
     "name": "stdout",
     "output_type": "stream",
     "text": [
      "Same memory location\n"
     ]
    }
   ],
   "source": [
    " if id(list1)==id(list2) :\n",
    "        print(\"Same memory location\")\n",
    "elif id(list2) == id(list3):\n",
    "    print(\"Same memory location\")\n",
    "else :\n",
    "    print(\"Same memory location\")"
   ]
  },
  {
   "cell_type": "markdown",
   "id": "b12e791c",
   "metadata": {},
   "source": [
    "# Bitwise operator\n",
    "\n",
    "#### used to compare binary numbers\n",
    "\n",
    "1) Bitwise and (&)                                                                  \n",
    "2) Bitwise or  (|)\n",
    "3) Bitwise not (~)"
   ]
  },
  {
   "cell_type": "code",
   "execution_count": 181,
   "id": "a9ce8428",
   "metadata": {},
   "outputs": [
    {
     "data": {
      "text/plain": [
       "'0b1010'"
      ]
     },
     "execution_count": 181,
     "metadata": {},
     "output_type": "execute_result"
    }
   ],
   "source": [
    "bin(10)   # prints the binary number of the decimal number"
   ]
  },
  {
   "cell_type": "code",
   "execution_count": 182,
   "id": "89346841",
   "metadata": {},
   "outputs": [
    {
     "data": {
      "text/plain": [
       "'0b1111'"
      ]
     },
     "execution_count": 182,
     "metadata": {},
     "output_type": "execute_result"
    }
   ],
   "source": [
    "bin(15)"
   ]
  },
  {
   "cell_type": "code",
   "execution_count": 183,
   "id": "93365e11",
   "metadata": {},
   "outputs": [
    {
     "data": {
      "text/plain": [
       "8"
      ]
     },
     "execution_count": 183,
     "metadata": {},
     "output_type": "execute_result"
    }
   ],
   "source": [
    "10 & 12"
   ]
  },
  {
   "cell_type": "markdown",
   "id": "b6cceab1",
   "metadata": {},
   "source": [
    "  1010                                                                                                                     \n",
    " 1100                                                  \n",
    "------------                                                   \n",
    "  1000"
   ]
  },
  {
   "cell_type": "code",
   "execution_count": 184,
   "id": "57d69b7e",
   "metadata": {},
   "outputs": [
    {
     "data": {
      "text/plain": [
       "14"
      ]
     },
     "execution_count": 184,
     "metadata": {},
     "output_type": "execute_result"
    }
   ],
   "source": [
    "10 | 12"
   ]
  },
  {
   "cell_type": "code",
   "execution_count": 185,
   "id": "21a58e35",
   "metadata": {},
   "outputs": [
    {
     "data": {
      "text/plain": [
       "-7"
      ]
     },
     "execution_count": 185,
     "metadata": {},
     "output_type": "execute_result"
    }
   ],
   "source": [
    "~ 6   #  -(x+1)"
   ]
  },
  {
   "cell_type": "markdown",
   "id": "99bd7a45",
   "metadata": {},
   "source": [
    "## Conditional ( if , elif, else )"
   ]
  },
  {
   "cell_type": "code",
   "execution_count": 186,
   "id": "1e80b3b4",
   "metadata": {},
   "outputs": [
    {
     "data": {
      "text/plain": [
       "True"
      ]
     },
     "execution_count": 186,
     "metadata": {},
     "output_type": "execute_result"
    }
   ],
   "source": [
    "1 < 3"
   ]
  },
  {
   "cell_type": "code",
   "execution_count": 187,
   "id": "c49d53a4",
   "metadata": {},
   "outputs": [
    {
     "name": "stdout",
     "output_type": "stream",
     "text": [
      "Good\n"
     ]
    }
   ],
   "source": [
    "if True:\n",
    "    print(\"Good\")\n",
    "else:\n",
    "    print(\"Worst\")"
   ]
  },
  {
   "cell_type": "markdown",
   "id": "bcd68242",
   "metadata": {},
   "source": [
    "## Input"
   ]
  },
  {
   "cell_type": "code",
   "execution_count": 188,
   "id": "c27de25a",
   "metadata": {},
   "outputs": [
    {
     "name": "stdout",
     "output_type": "stream",
     "text": [
      "Enter your Name Harsh\n"
     ]
    }
   ],
   "source": [
    "name = input(\"Enter your Name \")"
   ]
  },
  {
   "cell_type": "code",
   "execution_count": 189,
   "id": "2ca122b1",
   "metadata": {},
   "outputs": [
    {
     "data": {
      "text/plain": [
       "'Harsh'"
      ]
     },
     "execution_count": 189,
     "metadata": {},
     "output_type": "execute_result"
    }
   ],
   "source": [
    "name"
   ]
  },
  {
   "cell_type": "code",
   "execution_count": 190,
   "id": "ee1c3f3f",
   "metadata": {},
   "outputs": [
    {
     "name": "stdout",
     "output_type": "stream",
     "text": [
      "What is your Age? 20\n"
     ]
    }
   ],
   "source": [
    "info = input(\"What is your Age? \")"
   ]
  },
  {
   "cell_type": "code",
   "execution_count": 191,
   "id": "633acf12",
   "metadata": {},
   "outputs": [
    {
     "data": {
      "text/plain": [
       "'20'"
      ]
     },
     "execution_count": 191,
     "metadata": {},
     "output_type": "execute_result"
    }
   ],
   "source": [
    "info"
   ]
  },
  {
   "cell_type": "code",
   "execution_count": 192,
   "id": "f61ad905",
   "metadata": {},
   "outputs": [
    {
     "name": "stdout",
     "output_type": "stream",
     "text": [
      "Enter your location Home\n",
      "Welcome Home\n"
     ]
    }
   ],
   "source": [
    "loc = input(\"Enter your location \")\n",
    "\n",
    "if loc == \"Home\":\n",
    "    print(\"Welcome Home\")\n",
    "elif loc == \"College\":\n",
    "    print(\"Welcome to College\")\n",
    "else:\n",
    "    print(\"Where are you?\")"
   ]
  },
  {
   "cell_type": "code",
   "execution_count": 193,
   "id": "ff520a73",
   "metadata": {},
   "outputs": [
    {
     "data": {
      "text/plain": [
       "'Home'"
      ]
     },
     "execution_count": 193,
     "metadata": {},
     "output_type": "execute_result"
    }
   ],
   "source": [
    "loc "
   ]
  },
  {
   "cell_type": "code",
   "execution_count": 194,
   "id": "cba9bca5",
   "metadata": {},
   "outputs": [
    {
     "name": "stdout",
     "output_type": "stream",
     "text": [
      "Enter your location Class\n",
      "Welcome to Class\n"
     ]
    }
   ],
   "source": [
    "loc = input(\"Enter your location \")\n",
    "\n",
    "if loc == \"Home\":\n",
    "    print(\"Welcome Home\")\n",
    "elif loc == \"College\":\n",
    "    print(\"Welcome to College\")\n",
    "else:\n",
    "    print(\"Welcome to\",loc)"
   ]
  },
  {
   "cell_type": "code",
   "execution_count": 195,
   "id": "3ff9c488",
   "metadata": {},
   "outputs": [
    {
     "name": "stdout",
     "output_type": "stream",
     "text": [
      "Enter your Income in Rs 19000\n",
      "Tax =  1800.0\n"
     ]
    }
   ],
   "source": [
    "# tax counter\n",
    "income = int(input(\"Enter your Income in Rs \"))\n",
    "\n",
    "if income <= 10000 :\n",
    "    print(\"No Tax\")\n",
    "elif income > 10000 and income <=20000:\n",
    "    print(\"Tax = \",((income-1000)*0.1))\n",
    "else:\n",
    "    print(\"Tax = \",(income - 20000)*0.2 + 1000*0.1)"
   ]
  },
  {
   "cell_type": "code",
   "execution_count": 196,
   "id": "cba3e290",
   "metadata": {},
   "outputs": [
    {
     "data": {
      "text/plain": [
       "19000"
      ]
     },
     "execution_count": 196,
     "metadata": {},
     "output_type": "execute_result"
    }
   ],
   "source": [
    "income# 1st reading"
   ]
  },
  {
   "cell_type": "code",
   "execution_count": 197,
   "id": "6758da1d",
   "metadata": {},
   "outputs": [
    {
     "data": {
      "text/plain": [
       "'C:\\\\Users\\\\Dell\\\\Desktop\\\\python'"
      ]
     },
     "execution_count": 197,
     "metadata": {},
     "output_type": "execute_result"
    }
   ],
   "source": [
    "pwd  #path of current working directory"
   ]
  },
  {
   "cell_type": "markdown",
   "id": "3945d17f",
   "metadata": {},
   "source": [
    "## For loop\n",
    "\n",
    "A for loop is a control statement that excutes the codes for the predefined number of times"
   ]
  },
  {
   "cell_type": "markdown",
   "id": "1a4abb55",
   "metadata": {},
   "source": [
    "syantax:\n",
    "\n",
    "\n",
    "   for item in list:\n",
    "        statements.....\n"
   ]
  },
  {
   "cell_type": "code",
   "execution_count": 198,
   "id": "425d4378",
   "metadata": {},
   "outputs": [
    {
     "name": "stdout",
     "output_type": "stream",
     "text": [
      "1\n",
      "2\n",
      "3\n",
      "4\n"
     ]
    }
   ],
   "source": [
    "data = [1,2,3,4]\n",
    "\n",
    "for i in data:\n",
    "    print(i)"
   ]
  },
  {
   "cell_type": "code",
   "execution_count": 199,
   "id": "4b1dad21",
   "metadata": {},
   "outputs": [
    {
     "name": "stdout",
     "output_type": "stream",
     "text": [
      "1\n",
      "4\n",
      "9\n",
      "16\n"
     ]
    }
   ],
   "source": [
    "for i in data:\n",
    "    print(i**2)"
   ]
  },
  {
   "cell_type": "code",
   "execution_count": 200,
   "id": "1efc1a13",
   "metadata": {},
   "outputs": [
    {
     "data": {
      "text/plain": [
       "[1, 2, 3, 4, 5, 6, 7, 8, 9, 10]"
      ]
     },
     "execution_count": 200,
     "metadata": {},
     "output_type": "execute_result"
    }
   ],
   "source": [
    "list(range(1,11))"
   ]
  },
  {
   "cell_type": "code",
   "execution_count": 201,
   "id": "8c9ce90c",
   "metadata": {},
   "outputs": [
    {
     "data": {
      "text/plain": [
       "[0, 1, 2, 3, 4]"
      ]
     },
     "execution_count": 201,
     "metadata": {},
     "output_type": "execute_result"
    }
   ],
   "source": [
    "list(range(5))"
   ]
  },
  {
   "cell_type": "code",
   "execution_count": 202,
   "id": "cf00b630",
   "metadata": {},
   "outputs": [
    {
     "name": "stdout",
     "output_type": "stream",
     "text": [
      "Harsh\n",
      "Harsh\n",
      "Harsh\n",
      "Harsh\n",
      "Harsh\n"
     ]
    }
   ],
   "source": [
    "name = 'Harsh'\n",
    "for i in range(5):\n",
    "    print(name)"
   ]
  },
  {
   "cell_type": "code",
   "execution_count": 203,
   "id": "0e47b65a",
   "metadata": {},
   "outputs": [
    {
     "name": "stdout",
     "output_type": "stream",
     "text": [
      "0 ) Harsh\n",
      "1 ) Harsh\n",
      "2 ) Harsh\n",
      "3 ) Harsh\n",
      "4 ) Harsh\n"
     ]
    }
   ],
   "source": [
    "name = 'Harsh'\n",
    "for i in range(5):\n",
    "    print(i,')',name)"
   ]
  },
  {
   "cell_type": "code",
   "execution_count": 204,
   "id": "be7077cc",
   "metadata": {},
   "outputs": [
    {
     "name": "stdout",
     "output_type": "stream",
     "text": [
      "2\n",
      "4\n",
      "6\n",
      "8\n",
      "10\n",
      "12\n",
      "14\n",
      "16\n",
      "18\n",
      "20\n",
      "22\n",
      "24\n",
      "26\n",
      "28\n",
      "30\n",
      "32\n",
      "34\n",
      "36\n",
      "38\n",
      "40\n",
      "42\n",
      "44\n",
      "46\n",
      "48\n",
      "50\n",
      "52\n",
      "54\n",
      "56\n",
      "58\n",
      "60\n",
      "62\n",
      "64\n",
      "66\n",
      "68\n",
      "70\n",
      "72\n",
      "74\n",
      "76\n",
      "78\n",
      "80\n",
      "82\n",
      "84\n",
      "86\n",
      "88\n",
      "90\n",
      "92\n",
      "94\n",
      "96\n",
      "98\n",
      "100\n"
     ]
    }
   ],
   "source": [
    "# print all the even numbers in betwenn 1 and 100\n",
    "for i in range(1,101):\n",
    "    if(i%2==0):\n",
    "        print(i)"
   ]
  },
  {
   "cell_type": "code",
   "execution_count": 205,
   "id": "79b7fcbe",
   "metadata": {},
   "outputs": [
    {
     "name": "stdout",
     "output_type": "stream",
     "text": [
      "Odd\n",
      "2\n",
      "Odd\n",
      "4\n",
      "Odd\n",
      "6\n",
      "Odd\n",
      "8\n",
      "Odd\n",
      "10\n"
     ]
    }
   ],
   "source": [
    "for i in range(1,11):\n",
    "    if(i%2==0):\n",
    "        print(i)\n",
    "    else:\n",
    "        print(\"Odd\")"
   ]
  },
  {
   "cell_type": "code",
   "execution_count": 206,
   "id": "1d68f15d",
   "metadata": {},
   "outputs": [],
   "source": [
    "even = []\n",
    "odd = []\n",
    "for i in list(range(1,11)):\n",
    "    if i%2==0:\n",
    "        even.append(i)\n",
    "    else:\n",
    "        odd.append(i)"
   ]
  },
  {
   "cell_type": "code",
   "execution_count": 207,
   "id": "5744b420",
   "metadata": {},
   "outputs": [
    {
     "name": "stdout",
     "output_type": "stream",
     "text": [
      "Even Nos [2, 4, 6, 8, 10]\n",
      "Odd Nos [1, 3, 5, 7, 9]\n"
     ]
    }
   ],
   "source": [
    "print(\"Even Nos\",even)\n",
    "print(\"Odd Nos\",odd)"
   ]
  },
  {
   "cell_type": "code",
   "execution_count": 208,
   "id": "b61920fd",
   "metadata": {},
   "outputs": [],
   "source": [
    "odd_list = list(range(1,11,2))\n",
    "even_list = list(range(2,11,2))"
   ]
  },
  {
   "cell_type": "code",
   "execution_count": 209,
   "id": "2024242f",
   "metadata": {},
   "outputs": [
    {
     "name": "stdout",
     "output_type": "stream",
     "text": [
      "[1, 3, 5, 7, 9]\n",
      "[2, 4, 6, 8, 10]\n"
     ]
    }
   ],
   "source": [
    "print(odd_list)\n",
    "print(even_list)"
   ]
  },
  {
   "cell_type": "code",
   "execution_count": 210,
   "id": "0a0715ad",
   "metadata": {},
   "outputs": [
    {
     "name": "stdout",
     "output_type": "stream",
     "text": [
      "H\n",
      "a\n",
      "r\n",
      "s\n",
      "h\n"
     ]
    }
   ],
   "source": [
    "txt = 'Harsh'\n",
    "for i in txt:\n",
    "    print(i)"
   ]
  },
  {
   "cell_type": "code",
   "execution_count": 211,
   "id": "772bfdc6",
   "metadata": {},
   "outputs": [
    {
     "name": "stdout",
     "output_type": "stream",
     "text": [
      "Harsh\n",
      "is\n",
      "Engineer\n"
     ]
    }
   ],
   "source": [
    "txt = \"Harsh is Engineer\"\n",
    "for i in txt.split():\n",
    "    print(i)"
   ]
  },
  {
   "cell_type": "markdown",
   "id": "9dccea03",
   "metadata": {},
   "source": [
    "## Break statement\n",
    "\n",
    "with the break statement we can stop the loop"
   ]
  },
  {
   "cell_type": "code",
   "execution_count": 212,
   "id": "100e4383",
   "metadata": {},
   "outputs": [
    {
     "name": "stdout",
     "output_type": "stream",
     "text": [
      "20\n",
      "40\n",
      "60\n",
      "80\n",
      "100\n"
     ]
    }
   ],
   "source": [
    "number = [20,40,60,80,100,120]\n",
    "for i in number:\n",
    "        if i>100:\n",
    "             break\n",
    "        print(i)\n",
    "           "
   ]
  },
  {
   "cell_type": "markdown",
   "id": "4c84daac",
   "metadata": {},
   "source": [
    "## Continue statement\n",
    "\n",
    "skips the condition mentioned"
   ]
  },
  {
   "cell_type": "code",
   "execution_count": 213,
   "id": "b1ed9b12",
   "metadata": {},
   "outputs": [
    {
     "name": "stdout",
     "output_type": "stream",
     "text": [
      "20\n",
      "40\n",
      "60\n",
      "80\n",
      "120\n"
     ]
    }
   ],
   "source": [
    "number = [20,40,60,80,100,120]\n",
    "for i in number:\n",
    "        if i==100:\n",
    "             continue\n",
    "        print(i)\n",
    "           "
   ]
  },
  {
   "cell_type": "markdown",
   "id": "c08c5f6e",
   "metadata": {},
   "source": [
    "## While Loop\n",
    "\n",
    "when the Nos of iteration is unknown"
   ]
  },
  {
   "cell_type": "code",
   "execution_count": 214,
   "id": "e56f8582",
   "metadata": {},
   "outputs": [
    {
     "name": "stdout",
     "output_type": "stream",
     "text": [
      "1\n",
      "2\n",
      "3\n",
      "4\n",
      "5\n",
      "6\n",
      "7\n",
      "8\n",
      "9\n"
     ]
    }
   ],
   "source": [
    "i = 1\n",
    "while i<10:\n",
    "    print(i)\n",
    "    i = i+1"
   ]
  },
  {
   "cell_type": "markdown",
   "id": "909fab3c",
   "metadata": {},
   "source": [
    "## List comprehension"
   ]
  },
  {
   "cell_type": "code",
   "execution_count": 215,
   "id": "b3506beb",
   "metadata": {},
   "outputs": [
    {
     "data": {
      "text/plain": [
       "{1: 2, 2: 4, 3: 2, 4: 4}"
      ]
     },
     "execution_count": 215,
     "metadata": {},
     "output_type": "execute_result"
    }
   ],
   "source": [
    "# to find the frequency of elements\n",
    "list1 = [1,2,2,3,4,4,4,2,3,4,2,1]\n",
    "\n",
    "frequency = {}\n",
    "\n",
    "for i in list1:\n",
    "    frequency[i] = list1.count(i)   # prints how many times the element is repeated\n",
    "    \n",
    "frequency "
   ]
  },
  {
   "cell_type": "code",
   "execution_count": 216,
   "id": "f62e83de",
   "metadata": {},
   "outputs": [
    {
     "data": {
      "text/plain": [
       "{1: 2, 2: 4, 3: 2, 4: 4}"
      ]
     },
     "execution_count": 216,
     "metadata": {},
     "output_type": "execute_result"
    }
   ],
   "source": [
    "{i:list1.count(i)  for i in list1}   #dictionary Comprehension"
   ]
  },
  {
   "cell_type": "code",
   "execution_count": 217,
   "id": "18c8d7aa",
   "metadata": {},
   "outputs": [
    {
     "data": {
      "text/plain": [
       "'Harsh  '"
      ]
     },
     "execution_count": 217,
     "metadata": {},
     "output_type": "execute_result"
    }
   ],
   "source": [
    "data = \"Harsh Patil\"\n",
    "substring = \"Patil\"\n",
    "result = data.replace(substring,\" \")\n",
    "result"
   ]
  },
  {
   "cell_type": "markdown",
   "id": "26fac17f",
   "metadata": {},
   "source": [
    "###    without any condition\n",
    "\n",
    "#### new_list = [expression for i in iterable]                                                                "
   ]
  },
  {
   "cell_type": "code",
   "execution_count": 218,
   "id": "671b3e7b",
   "metadata": {},
   "outputs": [
    {
     "data": {
      "text/plain": [
       "[0, 1, 2, 3, 4, 5, 6, 7, 8, 9]"
      ]
     },
     "execution_count": 218,
     "metadata": {},
     "output_type": "execute_result"
    }
   ],
   "source": [
    "list_1 = [i for i in range(10)]\n",
    "list_1"
   ]
  },
  {
   "cell_type": "markdown",
   "id": "f92524c2",
   "metadata": {},
   "source": [
    "###  for one Condition\n",
    "\n",
    "#### new_list = [expression      for i in iterable  if condition == True]     "
   ]
  },
  {
   "cell_type": "code",
   "execution_count": 219,
   "id": "0fe12baf",
   "metadata": {},
   "outputs": [
    {
     "data": {
      "text/plain": [
       "[0, 2, 4, 6, 8]"
      ]
     },
     "execution_count": 219,
     "metadata": {},
     "output_type": "execute_result"
    }
   ],
   "source": [
    "list_1 = [i for i in range(10) if i%2==0]\n",
    "list_1"
   ]
  },
  {
   "cell_type": "markdown",
   "id": "9d136043",
   "metadata": {},
   "source": [
    "### for two conditions\n",
    "\n",
    "#### new_list = [  expression  if condition == True   else expression     for i in iterable]"
   ]
  },
  {
   "cell_type": "code",
   "execution_count": 220,
   "id": "e33bc531",
   "metadata": {},
   "outputs": [
    {
     "data": {
      "text/plain": [
       "['even', 'odd', 'even', 'odd', 'even', 'odd', 'even', 'odd', 'even', 'odd']"
      ]
     },
     "execution_count": 220,
     "metadata": {},
     "output_type": "execute_result"
    }
   ],
   "source": [
    "list_1 = ['even' if i%2==0  else 'odd' for i in range(10)]\n",
    "list_1"
   ]
  },
  {
   "cell_type": "code",
   "execution_count": 221,
   "id": "98e7b3a2",
   "metadata": {},
   "outputs": [],
   "source": [
    "#get me only those words which has length less then 5 char\n",
    "text ='fear task to and Face 2 run'"
   ]
  },
  {
   "cell_type": "code",
   "execution_count": 222,
   "id": "cd33cd25",
   "metadata": {},
   "outputs": [
    {
     "data": {
      "text/plain": [
       "{'fear': 4, 'task': 4, 'to': 2, 'and': 3, 'Face': 4, '2': 1, 'run': 3}"
      ]
     },
     "execution_count": 222,
     "metadata": {},
     "output_type": "execute_result"
    }
   ],
   "source": [
    "{i:len(i) for i in text.split() if len(i)<5}"
   ]
  },
  {
   "cell_type": "code",
   "execution_count": 223,
   "id": "52cbaa89",
   "metadata": {},
   "outputs": [
    {
     "data": {
      "text/plain": [
       "[6, 16, 26, 36, 46, 56, 60, 61, 62, 63, 64, 65, 66, 67, 68, 69, 76, 86, 96]"
      ]
     },
     "execution_count": 223,
     "metadata": {},
     "output_type": "execute_result"
    }
   ],
   "source": [
    "#from 1 to 6 how many 6 are present\n",
    "([i for i in range(1,101) if '6' in str(i)])"
   ]
  },
  {
   "cell_type": "markdown",
   "id": "d9a58362",
   "metadata": {},
   "source": [
    "## Functions"
   ]
  },
  {
   "cell_type": "code",
   "execution_count": 224,
   "id": "f32265b4",
   "metadata": {},
   "outputs": [
    {
     "name": "stdout",
     "output_type": "stream",
     "text": [
      "Good Morning\n"
     ]
    }
   ],
   "source": [
    "#syntax\n",
    "\n",
    "def greet():\n",
    "    print(\"Good Morning\")\n",
    "\n",
    "greet()"
   ]
  },
  {
   "cell_type": "markdown",
   "id": "b4d56134",
   "metadata": {},
   "source": [
    "### Types of Argument\n",
    "\n",
    "#### 1) Formal Arg                                                                               \n",
    "#### 2) Actual Arg                                                                                \n",
    "   A) Position arg                                                           \n",
    "   B) Keyword arg                                                  \n",
    "   C) Default arg                                                 \n",
    "   D) Variable length arg                                                  \n",
    "   E) Keyword variable length arg\n",
    "    "
   ]
  },
  {
   "cell_type": "code",
   "execution_count": 225,
   "id": "5f60e2fc",
   "metadata": {},
   "outputs": [
    {
     "name": "stdout",
     "output_type": "stream",
     "text": [
      "Harsh Patil\n"
     ]
    }
   ],
   "source": [
    "#pos arg\n",
    "\n",
    "def name(first_name,last_name):\n",
    "    print(first_name,last_name)\n",
    "    \n",
    "name('Harsh','Patil')"
   ]
  },
  {
   "cell_type": "code",
   "execution_count": 226,
   "id": "3c1fd26b",
   "metadata": {},
   "outputs": [
    {
     "name": "stdout",
     "output_type": "stream",
     "text": [
      "Patil Harsh\n"
     ]
    }
   ],
   "source": [
    "name('Patil','Harsh')  #order matters"
   ]
  },
  {
   "cell_type": "code",
   "execution_count": 227,
   "id": "3d4a57de",
   "metadata": {},
   "outputs": [],
   "source": [
    "#keyword arg\n",
    "\n",
    "def info(name,age):\n",
    "    print(\"Name= \",name,'\\nAge= ',age)"
   ]
  },
  {
   "cell_type": "code",
   "execution_count": 228,
   "id": "9f17aae8",
   "metadata": {},
   "outputs": [
    {
     "name": "stdout",
     "output_type": "stream",
     "text": [
      "Name=  Harsh \n",
      "Age=  20\n"
     ]
    }
   ],
   "source": [
    "info('Harsh',20)"
   ]
  },
  {
   "cell_type": "code",
   "execution_count": 229,
   "id": "942f2920",
   "metadata": {},
   "outputs": [
    {
     "name": "stdout",
     "output_type": "stream",
     "text": [
      "Name=  20 \n",
      "Age=  Harsh\n"
     ]
    }
   ],
   "source": [
    "info(20,\"Harsh\")"
   ]
  },
  {
   "cell_type": "code",
   "execution_count": 230,
   "id": "38a0a4ad",
   "metadata": {},
   "outputs": [
    {
     "name": "stdout",
     "output_type": "stream",
     "text": [
      "Name=  Harsh \n",
      "Age=  20\n"
     ]
    }
   ],
   "source": [
    "info(age=20,name=\"Harsh\")"
   ]
  },
  {
   "cell_type": "code",
   "execution_count": 231,
   "id": "aa05f9cc",
   "metadata": {},
   "outputs": [
    {
     "name": "stdout",
     "output_type": "stream",
     "text": [
      "Name=  Harsh \n",
      "Age=  18\n"
     ]
    }
   ],
   "source": [
    "#default arg\n",
    "def info(name,age=18):                       #value is already defined\n",
    "    print(\"Name= \",name,'\\nAge= ',age)\n",
    "\n",
    "info(\"Harsh\")"
   ]
  },
  {
   "cell_type": "code",
   "execution_count": 232,
   "id": "e90ee97f",
   "metadata": {},
   "outputs": [
    {
     "name": "stdout",
     "output_type": "stream",
     "text": [
      "Name=  Harsh \n",
      "Age=  20\n"
     ]
    }
   ],
   "source": [
    "info(\"Harsh\",20)"
   ]
  },
  {
   "cell_type": "code",
   "execution_count": 233,
   "id": "96cff41c",
   "metadata": {},
   "outputs": [
    {
     "name": "stdout",
     "output_type": "stream",
     "text": [
      "20\n"
     ]
    }
   ],
   "source": [
    "# Variable length argument     #cannot give keyword\n",
    "data = [2,5,5,8]\n",
    "total = 0\n",
    "for i in data:\n",
    "        total += i\n",
    "\n",
    "print(total)"
   ]
  },
  {
   "cell_type": "code",
   "execution_count": 234,
   "id": "21abd32e",
   "metadata": {},
   "outputs": [],
   "source": [
    "def add(*data):               # * means variable length doesnt matter it should perform the task for all cases\n",
    "    total = 0\n",
    "    for i in data:              # alwyas store in tuple\n",
    "        total += i\n",
    "    print(total)"
   ]
  },
  {
   "cell_type": "code",
   "execution_count": 235,
   "id": "f21c9c86",
   "metadata": {},
   "outputs": [
    {
     "name": "stdout",
     "output_type": "stream",
     "text": [
      "210\n"
     ]
    }
   ],
   "source": [
    "add(10,20,30,40,50,60)"
   ]
  },
  {
   "cell_type": "code",
   "execution_count": 236,
   "id": "bd3b2b2e",
   "metadata": {},
   "outputs": [],
   "source": [
    "#keyword variable length arg   keywargs **\n",
    "def info(**data):              #data stored in dictionary format\n",
    "    for i,j in data.items():\n",
    "        print(i,'=',j)\n",
    "      "
   ]
  },
  {
   "cell_type": "code",
   "execution_count": 237,
   "id": "7360aebb",
   "metadata": {},
   "outputs": [
    {
     "name": "stdout",
     "output_type": "stream",
     "text": [
      "name = Harsh\n",
      "Age = 20\n"
     ]
    }
   ],
   "source": [
    "info(name = \"Harsh\",Age = 20)"
   ]
  },
  {
   "cell_type": "code",
   "execution_count": null,
   "id": "9fceb16b",
   "metadata": {},
   "outputs": [],
   "source": []
  },
  {
   "cell_type": "code",
   "execution_count": null,
   "id": "aed26c65",
   "metadata": {},
   "outputs": [],
   "source": []
  }
 ],
 "metadata": {
  "kernelspec": {
   "display_name": "Python 3 (ipykernel)",
   "language": "python",
   "name": "python3"
  },
  "language_info": {
   "codemirror_mode": {
    "name": "ipython",
    "version": 3
   },
   "file_extension": ".py",
   "mimetype": "text/x-python",
   "name": "python",
   "nbconvert_exporter": "python",
   "pygments_lexer": "ipython3",
   "version": "3.11.5"
  }
 },
 "nbformat": 4,
 "nbformat_minor": 5
}
